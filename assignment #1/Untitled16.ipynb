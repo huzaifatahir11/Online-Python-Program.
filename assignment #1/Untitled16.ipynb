{
 "cells": [
  {
   "cell_type": "code",
   "execution_count": 7,
   "id": "c88fb508",
   "metadata": {},
   "outputs": [
    {
     "name": "stdout",
     "output_type": "stream",
     "text": [
      "Twinkle, twinkle, little star,\n",
      "        How I wonder what you are!  \n",
      "                 Up above the world so high,\n",
      "                 Like a diamond in the sky.\n",
      "Twinkle, twinkle, little star,\n",
      "          How I wonder what you are  \n"
     ]
    }
   ],
   "source": [
    "#1. Write a Python program to print the following string in a specific format (see the  output).  \n",
    "\n",
    "print(\"Twinkle, twinkle, little star,\")\n",
    "print(\"        How I wonder what you are!  \")\n",
    "print(\"                 Up above the world so high,\")\n",
    "print(\"                 Like a diamond in the sky.\")\n",
    "print(\"Twinkle, twinkle, little star,\")\n",
    "print(\"          How I wonder what you are  \")\n"
   ]
  },
  {
   "cell_type": "code",
   "execution_count": 9,
   "id": "504e47c4",
   "metadata": {},
   "outputs": [
    {
     "name": "stdout",
     "output_type": "stream",
     "text": [
      "3.8.8 (default, Apr 13 2021, 15:08:03) [MSC v.1916 64 bit (AMD64)]\n"
     ]
    }
   ],
   "source": [
    "#2. Write a Python program to get the Python version you are using  \n",
    "\n",
    "import sys\n",
    "print(sys.version)"
   ]
  },
  {
   "cell_type": "code",
   "execution_count": 16,
   "id": "be046c80",
   "metadata": {},
   "outputs": [
    {
     "name": "stdout",
     "output_type": "stream",
     "text": [
      "2021-10-21 09:26:08\n"
     ]
    }
   ],
   "source": [
    "#3. Write a Python program to display the current date and time\n",
    "\n",
    "import datetime\n",
    "now = datetime.datetime.now()\n",
    "print(now.strftime(\"%Y-%m-%d %H:%M:%S\"))"
   ]
  },
  {
   "cell_type": "code",
   "execution_count": null,
   "id": "b23e68e4",
   "metadata": {},
   "outputs": [],
   "source": [
    "#4. Write a Python program which accepts the radius of a circle from the user and compute  the area.  \n",
    "# A = πr2\n",
    "\n",
    "radius = int(input(\"Area of a radius : \"))\n",
    "pie = 3.14\n",
    "area = pie*(radius*radius)\n",
    "print(area)"
   ]
  },
  {
   "cell_type": "code",
   "execution_count": 13,
   "id": "fe449f8e",
   "metadata": {},
   "outputs": [
    {
     "name": "stdout",
     "output_type": "stream",
     "text": [
      "Input your First Name : huzaifa \n",
      "Input your Last Name : tahir\n",
      "Hello  tahir huzaifa \n"
     ]
    }
   ],
   "source": [
    "#5. Write a Python program which accepts the user's first and last name and print them in  reverse order with a space between them.  \n",
    "\n",
    "\n",
    "fname = input(\"Input your First Name : \")\n",
    "lname = input(\"Input your Last Name : \")\n",
    "print (\"Hello  \" + lname + \" \" + fname)\n"
   ]
  },
  {
   "cell_type": "code",
   "execution_count": 4,
   "id": "b01b4a31",
   "metadata": {},
   "outputs": [
    {
     "name": "stdout",
     "output_type": "stream",
     "text": [
      "Enter input 1 : 67\n",
      "Enter input 2 : 70\n",
      "137\n"
     ]
    }
   ],
   "source": [
    "#6. write a program which take two input from user and print them addition\n",
    "\n",
    "num1 = int(input(\"Enter input 1 : \"))\n",
    "num2 = int(input(\"Enter input 2 : \"))\n",
    "print(num1 + num2)"
   ]
  },
  {
   "cell_type": "code",
   "execution_count": 11,
   "id": "2602c0da",
   "metadata": {},
   "outputs": [
    {
     "name": "stdout",
     "output_type": "stream",
     "text": [
      "Enter marks of the first subject: 80\n",
      "Enter marks of the second subject: 80\n",
      "Enter marks of the third subject: 80\n",
      "Enter marks of the fourth subject: 80\n",
      "Enter marks of the fifth subject: 80\n",
      "percentage :  80.0 %\n",
      "Grade: B\n"
     ]
    }
   ],
   "source": [
    "#7. Write a program which takes 5 inputs from user for different subject’s marks, total it  and generate mark sheet using grades ?\n",
    "\n",
    "\n",
    "sub1=int(input(\"Enter marks of the first subject: \"))\n",
    "sub2=int(input(\"Enter marks of the second subject: \"))\n",
    "sub3=int(input(\"Enter marks of the third subject: \"))\n",
    "sub4=int(input(\"Enter marks of the fourth subject: \"))\n",
    "sub5=int(input(\"Enter marks of the fifth subject: \"))\n",
    "avg=(sub1+sub2+sub3+sub4+sub5)/500\n",
    "avg = avg*100\n",
    "print(\"percentage : \", avg, \"%\")\n",
    "avg = int(avg)\n",
    "if(avg>=90):\n",
    "    print(\"Grade: A\")\n",
    "elif(avg>=80&avg<90):\n",
    "    print(\"Grade: B\")\n",
    "elif(avg>=70&avg<80):\n",
    "    print(\"Grade: C\")\n",
    "elif(avg>=60&avg<70):\n",
    "    print(\"Grade: D\")\n",
    "else:\n",
    "    print(\"Grade: F\")\n"
   ]
  },
  {
   "cell_type": "code",
   "execution_count": 10,
   "id": "3c45462a",
   "metadata": {},
   "outputs": [
    {
     "name": "stdout",
     "output_type": "stream",
     "text": [
      "Enter a number: 3\n",
      "3 is Odd\n"
     ]
    }
   ],
   "source": [
    "#8. Write a program which take input from user and identify that the given number is even  or odd? \n",
    "# Python program to check if the input number is odd or even.\n",
    "# A number is even if division by 2 gives a remainder of 0.\n",
    "# If the remainder is 1, it is an odd number.\n",
    "\n",
    "num = int(input(\"Enter a number: \"))\n",
    "if (num % 2) == 0:\n",
    "   print(\"{0} is Even\".format(num))\n",
    "else:\n",
    "   print(\"{0} is Odd\".format(num))\n",
    "\n"
   ]
  },
  {
   "cell_type": "code",
   "execution_count": 12,
   "id": "3c589885",
   "metadata": {},
   "outputs": [
    {
     "name": "stdout",
     "output_type": "stream",
     "text": [
      "7\n"
     ]
    }
   ],
   "source": [
    "#9. Write a program which print the length of the list?  \n",
    "l1 = [1,2,3,4,5,6,7]\n",
    "print(len(l1))\n"
   ]
  },
  {
   "cell_type": "code",
   "execution_count": 9,
   "id": "13d8ac0a",
   "metadata": {},
   "outputs": [
    {
     "name": "stdout",
     "output_type": "stream",
     "text": [
      "28\n"
     ]
    }
   ],
   "source": [
    "#10. Write a Python program to sum all the numeric items in a list?  \n",
    "\n",
    "\n",
    "l1 = [1,2,3,4,5,6,7]\n",
    "sum1 = 0\n",
    "for data in l1:\n",
    "    sum1 = sum1 + data\n",
    "print(sum1)\n",
    "    \n",
    "    \n",
    "    \n",
    "\n",
    "\n",
    "\n",
    "\n",
    "  \n",
    "\n"
   ]
  },
  {
   "cell_type": "code",
   "execution_count": 7,
   "id": "0b6f1d40",
   "metadata": {},
   "outputs": [
    {
     "name": "stdout",
     "output_type": "stream",
     "text": [
      "99\n"
     ]
    }
   ],
   "source": [
    "#10.Write a Python program to sum all the numeric items in a list?  \n",
    "\n",
    "list1 = [10, 20, 4, 45, 99]\n",
    "print(max(list1))"
   ]
  },
  {
   "cell_type": "code",
   "execution_count": 13,
   "id": "b8a4b9f1",
   "metadata": {},
   "outputs": [
    {
     "name": "stdout",
     "output_type": "stream",
     "text": [
      "1\n",
      "2\n",
      "3\n",
      "4\n"
     ]
    }
   ],
   "source": [
    "#12. Take a list, say for example this one:  \n",
    "\n",
    "list1 = [1,2,3,4,5,6,7,8,9,10,12]\n",
    "for data in list1:\n",
    "    if data < 5:\n",
    "        print(data)"
   ]
  },
  {
   "cell_type": "code",
   "execution_count": null,
   "id": "dfb58d17",
   "metadata": {},
   "outputs": [],
   "source": []
  }
 ],
 "metadata": {
  "kernelspec": {
   "display_name": "Python 3",
   "language": "python",
   "name": "python3"
  },
  "language_info": {
   "codemirror_mode": {
    "name": "ipython",
    "version": 3
   },
   "file_extension": ".py",
   "mimetype": "text/x-python",
   "name": "python",
   "nbconvert_exporter": "python",
   "pygments_lexer": "ipython3",
   "version": "3.8.8"
  }
 },
 "nbformat": 4,
 "nbformat_minor": 5
}
